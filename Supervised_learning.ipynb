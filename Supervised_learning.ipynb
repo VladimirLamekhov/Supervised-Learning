{
 "cells": [
  {
   "cell_type": "markdown",
   "metadata": {
    "toc": true
   },
   "source": [
    "<h1>Содержание<span class=\"tocSkip\"></span></h1>\n",
    "<div class=\"toc\"><ul class=\"toc-item\"><li><span><a href=\"#Подготовка-данных\" data-toc-modified-id=\"Подготовка-данных-1\"><span class=\"toc-item-num\">1&nbsp;&nbsp;</span>Подготовка данных</a></span><ul class=\"toc-item\"><li><span><a href=\"#Вывод\" data-toc-modified-id=\"Вывод-1.1\"><span class=\"toc-item-num\">1.1&nbsp;&nbsp;</span>Вывод</a></span></li></ul></li><li><span><a href=\"#Исследование-задачи\" data-toc-modified-id=\"Исследование-задачи-2\"><span class=\"toc-item-num\">2&nbsp;&nbsp;</span>Исследование задачи</a></span><ul class=\"toc-item\"><li><span><a href=\"#Логистическая-регрессия\" data-toc-modified-id=\"Логистическая-регрессия-2.1\"><span class=\"toc-item-num\">2.1&nbsp;&nbsp;</span>Логистическая регрессия</a></span></li><li><span><a href=\"#Дерево-решений\" data-toc-modified-id=\"Дерево-решений-2.2\"><span class=\"toc-item-num\">2.2&nbsp;&nbsp;</span>Дерево решений</a></span></li><li><span><a href=\"#Случайный-лес\" data-toc-modified-id=\"Случайный-лес-2.3\"><span class=\"toc-item-num\">2.3&nbsp;&nbsp;</span>Случайный лес</a></span></li><li><span><a href=\"#Вывод\" data-toc-modified-id=\"Вывод-2.4\"><span class=\"toc-item-num\">2.4&nbsp;&nbsp;</span>Вывод</a></span></li></ul></li><li><span><a href=\"#Борьба-с-дисбалансом\" data-toc-modified-id=\"Борьба-с-дисбалансом-3\"><span class=\"toc-item-num\">3&nbsp;&nbsp;</span>Борьба с дисбалансом</a></span><ul class=\"toc-item\"><li><span><a href=\"#Вывод\" data-toc-modified-id=\"Вывод-3.1\"><span class=\"toc-item-num\">3.1&nbsp;&nbsp;</span>Вывод</a></span></li></ul></li><li><span><a href=\"#Тестирование-модели\" data-toc-modified-id=\"Тестирование-модели-4\"><span class=\"toc-item-num\">4&nbsp;&nbsp;</span>Тестирование модели</a></span><ul class=\"toc-item\"><li><span><a href=\"#Вывод\" data-toc-modified-id=\"Вывод-4.1\"><span class=\"toc-item-num\">4.1&nbsp;&nbsp;</span>Вывод</a></span></li></ul></li><li><span><a href=\"#Общий-вывод\" data-toc-modified-id=\"Общий-вывод-5\"><span class=\"toc-item-num\">5&nbsp;&nbsp;</span>Общий вывод</a></span></li><li><span><a href=\"#Чек-лист-готовности-проекта\" data-toc-modified-id=\"Чек-лист-готовности-проекта-6\"><span class=\"toc-item-num\">6&nbsp;&nbsp;</span>Чек-лист готовности проекта</a></span></li></ul></div>"
   ]
  },
  {
   "cell_type": "markdown",
   "metadata": {},
   "source": [
    "# Отток клиентов"
   ]
  },
  {
   "cell_type": "markdown",
   "metadata": {},
   "source": [
    "Из «Бета-Банка» стали уходить клиенты. Каждый месяц. Немного, но заметно. Банковские маркетологи посчитали: сохранять текущих клиентов дешевле, чем привлекать новых.\n",
    "\n",
    "Нужно спрогнозировать, уйдёт клиент из банка в ближайшее время или нет. Вам предоставлены исторические данные о поведении клиентов и расторжении договоров с банком. \n",
    "\n",
    "Постройте модель с предельно большим значением *F1*-меры. Чтобы сдать проект успешно, нужно довести метрику до 0.59. Проверьте *F1*-меру на тестовой выборке самостоятельно.\n",
    "\n",
    "Дополнительно измеряйте *AUC-ROC*, сравнивайте её значение с *F1*-мерой.\n",
    "\n",
    "Источник данных: [https://www.kaggle.com/barelydedicated/bank-customer-churn-modeling](https://www.kaggle.com/barelydedicated/bank-customer-churn-modeling)"
   ]
  },
  {
   "cell_type": "markdown",
   "metadata": {},
   "source": [
    "## Подготовка данных"
   ]
  },
  {
   "cell_type": "code",
   "execution_count": 1,
   "metadata": {},
   "outputs": [],
   "source": [
    "# Импортируем необходимые библиотеки\n",
    "import pandas as pd\n",
    "import numpy as np\n",
    "import matplotlib.pyplot as plt\n",
    "from sklearn.model_selection import train_test_split, GridSearchCV\n",
    "from sklearn.linear_model import LogisticRegression\n",
    "from sklearn.tree import DecisionTreeClassifier\n",
    "from sklearn.ensemble import RandomForestClassifier\n",
    "from sklearn.dummy import DummyClassifier\n",
    "from sklearn.utils import shuffle\n",
    "from sklearn.metrics import f1_score, roc_auc_score, roc_curve "
   ]
  },
  {
   "cell_type": "code",
   "execution_count": 2,
   "metadata": {},
   "outputs": [
    {
     "name": "stdout",
     "output_type": "stream",
     "text": [
      "<class 'pandas.core.frame.DataFrame'>\n",
      "RangeIndex: 10000 entries, 0 to 9999\n",
      "Data columns (total 14 columns):\n",
      " #   Column           Non-Null Count  Dtype  \n",
      "---  ------           --------------  -----  \n",
      " 0   RowNumber        10000 non-null  int64  \n",
      " 1   CustomerId       10000 non-null  int64  \n",
      " 2   Surname          10000 non-null  object \n",
      " 3   CreditScore      10000 non-null  int64  \n",
      " 4   Geography        10000 non-null  object \n",
      " 5   Gender           10000 non-null  object \n",
      " 6   Age              10000 non-null  int64  \n",
      " 7   Tenure           9091 non-null   float64\n",
      " 8   Balance          10000 non-null  float64\n",
      " 9   NumOfProducts    10000 non-null  int64  \n",
      " 10  HasCrCard        10000 non-null  int64  \n",
      " 11  IsActiveMember   10000 non-null  int64  \n",
      " 12  EstimatedSalary  10000 non-null  float64\n",
      " 13  Exited           10000 non-null  int64  \n",
      "dtypes: float64(3), int64(8), object(3)\n",
      "memory usage: 1.1+ MB\n"
     ]
    }
   ],
   "source": [
    "# Откроем и изучим данные\n",
    "data = pd.read_csv('/datasets/Churn.csv')\n",
    "data.info()"
   ]
  },
  {
   "cell_type": "code",
   "execution_count": 3,
   "metadata": {
    "scrolled": true
   },
   "outputs": [
    {
     "name": "stdout",
     "output_type": "stream",
     "text": [
      "[ 0.  1.  2.  3.  4.  5.  6.  7.  8.  9. 10. nan]\n",
      "909\n"
     ]
    }
   ],
   "source": [
    "# Посмотрим на значения в столбце 'Tenure' и количество NaN\n",
    "print(np.sort(data.Tenure.unique()))\n",
    "print(data.Tenure.isna().sum())"
   ]
  },
  {
   "cell_type": "code",
   "execution_count": 4,
   "metadata": {},
   "outputs": [
    {
     "data": {
      "text/html": [
       "<div>\n",
       "<style scoped>\n",
       "    .dataframe tbody tr th:only-of-type {\n",
       "        vertical-align: middle;\n",
       "    }\n",
       "\n",
       "    .dataframe tbody tr th {\n",
       "        vertical-align: top;\n",
       "    }\n",
       "\n",
       "    .dataframe thead th {\n",
       "        text-align: right;\n",
       "    }\n",
       "</style>\n",
       "<table border=\"1\" class=\"dataframe\">\n",
       "  <thead>\n",
       "    <tr style=\"text-align: right;\">\n",
       "      <th></th>\n",
       "      <th>RowNumber</th>\n",
       "      <th>CustomerId</th>\n",
       "      <th>Surname</th>\n",
       "      <th>CreditScore</th>\n",
       "      <th>Geography</th>\n",
       "      <th>Gender</th>\n",
       "      <th>Age</th>\n",
       "      <th>Tenure</th>\n",
       "      <th>Balance</th>\n",
       "      <th>NumOfProducts</th>\n",
       "      <th>HasCrCard</th>\n",
       "      <th>IsActiveMember</th>\n",
       "      <th>EstimatedSalary</th>\n",
       "      <th>Exited</th>\n",
       "    </tr>\n",
       "  </thead>\n",
       "  <tbody>\n",
       "    <tr>\n",
       "      <th>30</th>\n",
       "      <td>31</td>\n",
       "      <td>15589475</td>\n",
       "      <td>Azikiwe</td>\n",
       "      <td>591</td>\n",
       "      <td>Spain</td>\n",
       "      <td>Female</td>\n",
       "      <td>39</td>\n",
       "      <td>NaN</td>\n",
       "      <td>0.00</td>\n",
       "      <td>3</td>\n",
       "      <td>1</td>\n",
       "      <td>0</td>\n",
       "      <td>140469.38</td>\n",
       "      <td>1</td>\n",
       "    </tr>\n",
       "    <tr>\n",
       "      <th>48</th>\n",
       "      <td>49</td>\n",
       "      <td>15766205</td>\n",
       "      <td>Yin</td>\n",
       "      <td>550</td>\n",
       "      <td>Germany</td>\n",
       "      <td>Male</td>\n",
       "      <td>38</td>\n",
       "      <td>NaN</td>\n",
       "      <td>103391.38</td>\n",
       "      <td>1</td>\n",
       "      <td>0</td>\n",
       "      <td>1</td>\n",
       "      <td>90878.13</td>\n",
       "      <td>0</td>\n",
       "    </tr>\n",
       "    <tr>\n",
       "      <th>51</th>\n",
       "      <td>52</td>\n",
       "      <td>15768193</td>\n",
       "      <td>Trevisani</td>\n",
       "      <td>585</td>\n",
       "      <td>Germany</td>\n",
       "      <td>Male</td>\n",
       "      <td>36</td>\n",
       "      <td>NaN</td>\n",
       "      <td>146050.97</td>\n",
       "      <td>2</td>\n",
       "      <td>0</td>\n",
       "      <td>0</td>\n",
       "      <td>86424.57</td>\n",
       "      <td>0</td>\n",
       "    </tr>\n",
       "    <tr>\n",
       "      <th>53</th>\n",
       "      <td>54</td>\n",
       "      <td>15702298</td>\n",
       "      <td>Parkhill</td>\n",
       "      <td>655</td>\n",
       "      <td>Germany</td>\n",
       "      <td>Male</td>\n",
       "      <td>41</td>\n",
       "      <td>NaN</td>\n",
       "      <td>125561.97</td>\n",
       "      <td>1</td>\n",
       "      <td>0</td>\n",
       "      <td>0</td>\n",
       "      <td>164040.94</td>\n",
       "      <td>1</td>\n",
       "    </tr>\n",
       "    <tr>\n",
       "      <th>60</th>\n",
       "      <td>61</td>\n",
       "      <td>15651280</td>\n",
       "      <td>Hunter</td>\n",
       "      <td>742</td>\n",
       "      <td>Germany</td>\n",
       "      <td>Male</td>\n",
       "      <td>35</td>\n",
       "      <td>NaN</td>\n",
       "      <td>136857.00</td>\n",
       "      <td>1</td>\n",
       "      <td>0</td>\n",
       "      <td>0</td>\n",
       "      <td>84509.57</td>\n",
       "      <td>0</td>\n",
       "    </tr>\n",
       "  </tbody>\n",
       "</table>\n",
       "</div>"
      ],
      "text/plain": [
       "    RowNumber  CustomerId    Surname  CreditScore Geography  Gender  Age  \\\n",
       "30         31    15589475    Azikiwe          591     Spain  Female   39   \n",
       "48         49    15766205        Yin          550   Germany    Male   38   \n",
       "51         52    15768193  Trevisani          585   Germany    Male   36   \n",
       "53         54    15702298   Parkhill          655   Germany    Male   41   \n",
       "60         61    15651280     Hunter          742   Germany    Male   35   \n",
       "\n",
       "    Tenure    Balance  NumOfProducts  HasCrCard  IsActiveMember  \\\n",
       "30     NaN       0.00              3          1               0   \n",
       "48     NaN  103391.38              1          0               1   \n",
       "51     NaN  146050.97              2          0               0   \n",
       "53     NaN  125561.97              1          0               0   \n",
       "60     NaN  136857.00              1          0               0   \n",
       "\n",
       "    EstimatedSalary  Exited  \n",
       "30        140469.38       1  \n",
       "48         90878.13       0  \n",
       "51         86424.57       0  \n",
       "53        164040.94       1  \n",
       "60         84509.57       0  "
      ]
     },
     "execution_count": 4,
     "metadata": {},
     "output_type": "execute_result"
    }
   ],
   "source": [
    "data[data['Tenure'].isna()].head()"
   ]
  },
  {
   "cell_type": "markdown",
   "metadata": {},
   "source": [
    "Необходимо избавиься от значения `NaN` в столбце `Tenure`. Так как значение `0` присутствуе в данных столбца, то невозможгл однозначно ответить, возможно ли `NaN` заменить на `0`. Помимо этого, прочие значения строк, в которыъ присутсвует значение `NaN` в столбце `Tenure` заполнены адекватно. Таким образом, так как доля данных с `NaN` составляет более 9%, заменим пропущенные значения медианными по столбцу."
   ]
  },
  {
   "cell_type": "code",
   "execution_count": 5,
   "metadata": {
    "scrolled": true
   },
   "outputs": [],
   "source": [
    "# Заменим пропущенные значения медианными\n",
    "data.Tenure = data.Tenure.fillna(-1).astype('object')"
   ]
  },
  {
   "cell_type": "code",
   "execution_count": 6,
   "metadata": {},
   "outputs": [],
   "source": [
    "# Такие признаки как 'RowNumber','CustomerId','Surname' не влияют на значение целевого признака, отбросим их\n",
    "data = data.drop(['RowNumber', 'CustomerId', 'Surname'], axis=1)"
   ]
  },
  {
   "cell_type": "code",
   "execution_count": 7,
   "metadata": {},
   "outputs": [],
   "source": [
    "# Заменим категориальные признаки в столбцах 'Geography', 'Gender' и 'Tenure' методом OHE\n",
    "data = pd.get_dummies(data, drop_first=True)"
   ]
  },
  {
   "cell_type": "code",
   "execution_count": 8,
   "metadata": {
    "scrolled": true
   },
   "outputs": [
    {
     "name": "stdout",
     "output_type": "stream",
     "text": [
      "(6000, 21) (4000, 21)\n",
      "(6000,) (4000,)\n"
     ]
    }
   ],
   "source": [
    "# Разобьем выборку на тренировочную и валидационную\n",
    "features = data.drop('Exited', axis=1)\n",
    "target = data['Exited']\n",
    "features_train, features_test, target_train, target_test = train_test_split(features,\n",
    "                                                                            target, \n",
    "                                                                            random_state=99, \n",
    "                                                                            test_size=0.4)\n",
    "print(features_train.shape, features_test.shape)\n",
    "print(target_train.shape, target_test.shape)"
   ]
  },
  {
   "cell_type": "markdown",
   "metadata": {},
   "source": [
    "### Вывод ###\n",
    "Исследованы исходные данные, обработаны пропущенные значения в столбце `Tenure` - заменены на -1 и тип `object`, удалены признаки, не влияющие на целевой, категориальные признаки заменены методом OHE.\n",
    "Исходная выборка разбита на обучающую и тестовую"
   ]
  },
  {
   "cell_type": "markdown",
   "metadata": {},
   "source": [
    "## Исследование задачи"
   ]
  },
  {
   "cell_type": "code",
   "execution_count": 9,
   "metadata": {
    "scrolled": true
   },
   "outputs": [
    {
     "name": "stdout",
     "output_type": "stream",
     "text": [
      "0    4791\n",
      "1    1209\n",
      "Name: Exited, dtype: int64\n",
      "3.9627791563275436\n",
      "0    3172\n",
      "1     828\n",
      "Name: Exited, dtype: int64\n",
      "3.8309178743961354\n"
     ]
    }
   ],
   "source": [
    "# Исследуем баланс классов, получив уникальные значения для target выборок\n",
    "# Вычислим отношение отрицательного класса к положительному\n",
    "print(target_train.value_counts(), 1 + target_train.value_counts().pct_change(-1)[0], sep='\\n')\n",
    "print(target_test.value_counts(), 1 + target_test.value_counts().pct_change(-1)[0], sep='\\n')"
   ]
  },
  {
   "cell_type": "markdown",
   "metadata": {},
   "source": [
    "В исходных данных наблюдается дисбаланс классов - количество клиентов, отказавшихся от услуг банка, существенно ниже количества клиентов, оставшихся клиентами банка."
   ]
  },
  {
   "cell_type": "markdown",
   "metadata": {},
   "source": [
    "### Логистическая регрессия ###"
   ]
  },
  {
   "cell_type": "code",
   "execution_count": 10,
   "metadata": {},
   "outputs": [],
   "source": [
    "# Определим модель логистической регрессии\n",
    "logistic_regression_model = LogisticRegression(random_state=99, solver='liblinear')\n",
    "lr_grid_search = GridSearchCV(estimator=logistic_regression_model,\n",
    "                              scoring='f1', \n",
    "                              param_grid={'max_iter':range(100, 200), 'penalty':['l1', 'l2']})"
   ]
  },
  {
   "cell_type": "code",
   "execution_count": 11,
   "metadata": {},
   "outputs": [
    {
     "data": {
      "text/plain": [
       "GridSearchCV(estimator=LogisticRegression(random_state=99, solver='liblinear'),\n",
       "             param_grid={'max_iter': range(100, 200), 'penalty': ['l1', 'l2']},\n",
       "             scoring='f1')"
      ]
     },
     "execution_count": 11,
     "metadata": {},
     "output_type": "execute_result"
    }
   ],
   "source": [
    "# Обучим модель логистической регрессии на обучающей выборке\n",
    "lr_grid_search.fit(features_train, target_train)"
   ]
  },
  {
   "cell_type": "code",
   "execution_count": 12,
   "metadata": {},
   "outputs": [
    {
     "name": "stdout",
     "output_type": "stream",
     "text": [
      "0.33691756272401435\n",
      "{'max_iter': 100, 'penalty': 'l1'}\n"
     ]
    }
   ],
   "source": [
    "# Расчитываем f1 метрику для лучшей обученной модели на валидационной выборке и выводим ее параметры\n",
    "print(f1_score(target_test, lr_grid_search.best_estimator_.predict(features_test)))\n",
    "print(lr_grid_search.best_params_)"
   ]
  },
  {
   "cell_type": "markdown",
   "metadata": {},
   "source": [
    "### Дерево решений ###"
   ]
  },
  {
   "cell_type": "code",
   "execution_count": 13,
   "metadata": {},
   "outputs": [],
   "source": [
    "# Определим модель дерева решений\n",
    "decision_tree_model = DecisionTreeClassifier(random_state=99)\n",
    "dt_grid_search = GridSearchCV(estimator=decision_tree_model,\n",
    "                              scoring='f1', \n",
    "                              param_grid={'max_depth':range(5, 30)})"
   ]
  },
  {
   "cell_type": "code",
   "execution_count": 14,
   "metadata": {},
   "outputs": [
    {
     "data": {
      "text/plain": [
       "GridSearchCV(estimator=DecisionTreeClassifier(random_state=99),\n",
       "             param_grid={'max_depth': range(5, 30)}, scoring='f1')"
      ]
     },
     "execution_count": 14,
     "metadata": {},
     "output_type": "execute_result"
    }
   ],
   "source": [
    "# Обучим модель дерева решений на обучающей выборке\n",
    "dt_grid_search.fit(features_train, target_train)"
   ]
  },
  {
   "cell_type": "code",
   "execution_count": 15,
   "metadata": {
    "scrolled": true
   },
   "outputs": [
    {
     "name": "stdout",
     "output_type": "stream",
     "text": [
      "0.5786646201074443\n",
      "{'max_depth': 6}\n"
     ]
    }
   ],
   "source": [
    "# Расчитываем f1 метрику для лучшей обученной модели на валидационной выборке и выводим ее параметры\n",
    "print(f1_score(target_test, dt_grid_search.best_estimator_.predict(features_test)))\n",
    "print(dt_grid_search.best_params_)"
   ]
  },
  {
   "cell_type": "markdown",
   "metadata": {},
   "source": [
    "### Случайный лес ###"
   ]
  },
  {
   "cell_type": "code",
   "execution_count": 16,
   "metadata": {},
   "outputs": [],
   "source": [
    "# Определим модель случайного леса\n",
    "random_forest_model = RandomForestClassifier(random_state=99, n_estimators=200)\n",
    "rf_grid_search = GridSearchCV(estimator=random_forest_model,\n",
    "                              scoring='f1', \n",
    "                              param_grid={'max_depth':range(5, 15)})"
   ]
  },
  {
   "cell_type": "code",
   "execution_count": 17,
   "metadata": {},
   "outputs": [
    {
     "data": {
      "text/plain": [
       "GridSearchCV(estimator=RandomForestClassifier(n_estimators=200,\n",
       "                                              random_state=99),\n",
       "             param_grid={'max_depth': range(5, 15)}, scoring='f1')"
      ]
     },
     "execution_count": 17,
     "metadata": {},
     "output_type": "execute_result"
    }
   ],
   "source": [
    "# Обучим модель случайного леса на обучающей выборке\n",
    "rf_grid_search.fit(features_train, target_train)"
   ]
  },
  {
   "cell_type": "code",
   "execution_count": 18,
   "metadata": {
    "scrolled": true
   },
   "outputs": [
    {
     "name": "stdout",
     "output_type": "stream",
     "text": [
      "0.5588470776621297\n",
      "{'max_depth': 13}\n"
     ]
    }
   ],
   "source": [
    "# Расчитываем f1 метрику для лучшей обученной модели на валидационной выборке и выводим ее параметры\n",
    "print(f1_score(target_test, rf_grid_search.best_estimator_.predict(features_test)))\n",
    "print(rf_grid_search.best_params_)"
   ]
  },
  {
   "cell_type": "markdown",
   "metadata": {},
   "source": [
    "### Вывод\n",
    "Лучшее значение F1-меры, равное 0.57, показала модель дерева решений с `max_depth` = 6."
   ]
  },
  {
   "cell_type": "markdown",
   "metadata": {},
   "source": [
    "## Борьба с дисбалансом"
   ]
  },
  {
   "cell_type": "markdown",
   "metadata": {},
   "source": [
    "Для борьбы с дисбалансом классов рассмотрим три метода: автоматическую балансировку классов внутри модели с помощью параметра `class_weight` принимающего значение `balanced`, с помощью `upsampling` меньшего класса и c помощью `downsampling` большего класса. Расчет метрики качества обучения на новых данных будем производить на модели случайного леса с лучшими параметрами."
   ]
  },
  {
   "cell_type": "code",
   "execution_count": 19,
   "metadata": {},
   "outputs": [],
   "source": [
    "# Напишем функции для увеличения и уменьшения выборки \n",
    "def upsample(features, target, repeat):\n",
    "    features_zeros = features[target == 0]\n",
    "    features_ones = features[target == 1]\n",
    "    target_zeros = target[target == 0]\n",
    "    target_ones = target[target == 1]\n",
    "\n",
    "    features_upsampled = pd.concat([features_zeros] + [features_ones] * repeat)\n",
    "    target_upsampled = pd.concat([target_zeros] + [target_ones] * repeat)\n",
    "    \n",
    "    features_upsampled, target_upsampled = shuffle(\n",
    "        features_upsampled, target_upsampled, random_state=99)\n",
    "    \n",
    "    return features_upsampled, target_upsampled\n",
    "\n",
    "def downsample(features, target, fraction):\n",
    "    features_zeros = features[target == 0]\n",
    "    features_ones = features[target == 1]\n",
    "    target_zeros = target[target == 0]\n",
    "    target_ones = target[target == 1]\n",
    "\n",
    "    features_downsampled = pd.concat(\n",
    "        [features_zeros.sample(frac=fraction, random_state=99)] + [features_ones])\n",
    "    target_downsampled = pd.concat(\n",
    "        [target_zeros.sample(frac=fraction, random_state=99)] + [target_ones])\n",
    "    \n",
    "    features_downsampled, target_downsampled = shuffle(\n",
    "        features_downsampled, target_downsampled, random_state=99)\n",
    "    \n",
    "    return features_downsampled, target_downsampled"
   ]
  },
  {
   "cell_type": "code",
   "execution_count": 20,
   "metadata": {},
   "outputs": [],
   "source": [
    "# Получим новые обучающие выборки путем увеличения и уменьшения классов\n",
    "features_upsampled, target_upsampled = upsample(features_train, target_train, 3)\n",
    "features_downsampled, target_downsampled = downsample(features_train, target_train, 0.3)"
   ]
  },
  {
   "cell_type": "code",
   "execution_count": 21,
   "metadata": {},
   "outputs": [
    {
     "name": "stdout",
     "output_type": "stream",
     "text": [
      "0    4791\n",
      "1    3627\n",
      "Name: Exited, dtype: int64\n",
      "1.3209263854425144\n",
      "0    1437\n",
      "1    1209\n",
      "Name: Exited, dtype: int64\n",
      "1.1885856079404467\n"
     ]
    }
   ],
   "source": [
    "# Исследуем баланс классов\n",
    "print(target_upsampled.value_counts(), 1 + target_upsampled.value_counts().pct_change(-1)[0], sep='\\n')\n",
    "print(target_downsampled.value_counts(), 1 + target_downsampled.value_counts().pct_change(-1)[0], sep='\\n')"
   ]
  },
  {
   "cell_type": "code",
   "execution_count": 22,
   "metadata": {},
   "outputs": [
    {
     "name": "stdout",
     "output_type": "stream",
     "text": [
      "0.6273830155979203\n"
     ]
    }
   ],
   "source": [
    "# Получим F1-меру для автоматически сбалансированных данных\n",
    "rf_model_balanced = RandomForestClassifier(random_state=99,n_estimators=200, class_weight='balanced')\n",
    "rfb_grid_search = GridSearchCV(estimator=rf_model_balanced,\n",
    "                              scoring='f1', \n",
    "                              param_grid={'max_depth':range(5, 15)})\n",
    "rfb_grid_search.fit(features_train, target_train)\n",
    "print(f1_score(target_test, rfb_grid_search.best_estimator_.predict(features_test)))"
   ]
  },
  {
   "cell_type": "code",
   "execution_count": 23,
   "metadata": {},
   "outputs": [
    {
     "name": "stdout",
     "output_type": "stream",
     "text": [
      "{'max_depth': 9}\n"
     ]
    }
   ],
   "source": [
    "print(rfb_grid_search.best_params_)"
   ]
  },
  {
   "cell_type": "code",
   "execution_count": 24,
   "metadata": {
    "scrolled": true
   },
   "outputs": [
    {
     "name": "stdout",
     "output_type": "stream",
     "text": [
      "0.6143236074270557\n"
     ]
    }
   ],
   "source": [
    "# Получим F1-меру для выборки с уменьшенным числом объектов большего класса\n",
    "rfd_model = RandomForestClassifier(random_state=99, n_estimators=200)\n",
    "rfd_grid_search = GridSearchCV(estimator=rfd_model,\n",
    "                              scoring='f1', \n",
    "                              param_grid={'max_depth':range(5, 15)})\n",
    "rfd_grid_search.fit(features_downsampled, target_downsampled)\n",
    "print(f1_score(target_test, rfd_grid_search.best_estimator_.predict(features_test)))"
   ]
  },
  {
   "cell_type": "code",
   "execution_count": 25,
   "metadata": {},
   "outputs": [
    {
     "name": "stdout",
     "output_type": "stream",
     "text": [
      "{'max_depth': 10}\n"
     ]
    }
   ],
   "source": [
    "print(rfd_grid_search.best_params_)"
   ]
  },
  {
   "cell_type": "code",
   "execution_count": 26,
   "metadata": {},
   "outputs": [
    {
     "name": "stdout",
     "output_type": "stream",
     "text": [
      "0.6151866151866152\n"
     ]
    }
   ],
   "source": [
    "# Получим F1-меру для выборки с увеличенным числом объектов меньшего класса\n",
    "rfu_model = RandomForestClassifier(random_state=99, n_estimators=200)\n",
    "rfu_grid_search = GridSearchCV(estimator=rfu_model,\n",
    "                              scoring='f1', \n",
    "                              param_grid={'max_depth':range(5, 15)})\n",
    "rfu_grid_search.fit(features_upsampled, target_upsampled)\n",
    "print(f1_score(target_test, rfu_grid_search.best_estimator_.predict(features_test)))"
   ]
  },
  {
   "cell_type": "code",
   "execution_count": 27,
   "metadata": {},
   "outputs": [
    {
     "name": "stdout",
     "output_type": "stream",
     "text": [
      "{'max_depth': 14}\n"
     ]
    }
   ],
   "source": [
    "print(rfu_grid_search.best_params_)"
   ]
  },
  {
   "cell_type": "markdown",
   "metadata": {},
   "source": [
    "### Вывод ###\n",
    "Наилучшее значение F1-меры получено автобалансировкой классов. В этом случае значение F1-меры составляет 0.62. "
   ]
  },
  {
   "cell_type": "markdown",
   "metadata": {},
   "source": [
    "## Тестирование модели"
   ]
  },
  {
   "cell_type": "markdown",
   "metadata": {},
   "source": [
    "Проведем тестирование модели. Сравним F1-меру для модели, возвращающей случайные результаты и для модели, возвращающей наиболее часто встречающейся результат, с F1-мерой модели, полученной в предыдущем разделе."
   ]
  },
  {
   "cell_type": "code",
   "execution_count": 28,
   "metadata": {},
   "outputs": [
    {
     "name": "stdout",
     "output_type": "stream",
     "text": [
      "0.2753468516542156\n",
      "0.0\n"
     ]
    }
   ],
   "source": [
    "# Результаты для случайной модели \n",
    "random_model_prediction = np.random.randint(2, size=len(target_test))\n",
    "print(f1_score(target_test, random_model_prediction))\n",
    "\n",
    "# Результаты для дамми-моделт\n",
    "dummy_model = DummyClassifier(strategy='most_frequent', random_state=99)\n",
    "dummy_model.fit(features_train, target_train)\n",
    "dummy_model_prediction = dummy_model.predict(features_test)\n",
    "print(f1_score(target_test, dummy_model_prediction))"
   ]
  },
  {
   "cell_type": "code",
   "execution_count": 29,
   "metadata": {},
   "outputs": [
    {
     "data": {
      "image/png": "[encoded data removed]",
      "text/plain": [
       "<Figure size 432x288 with 1 Axes>"
      ]
     },
     "metadata": {
      "needs_background": "light"
     },
     "output_type": "display_data"
    }
   ],
   "source": [
    "# Построим ROC-кривую для лучшей и дамми моделей\n",
    "probabilities_one_valid_rfb = rfb_grid_search.best_estimator_.predict_proba(features_test)[:, 1]\n",
    "fpr_rfb, tpr_rfb, thresholds = roc_curve(target_test, probabilities_one_valid_rfb)\n",
    "probabilities_one_valid_dum = dummy_model.predict_proba(features_test)[:, 1]\n",
    "fpr_dum, tpr_dum, thresholds = roc_curve(target_test, probabilities_one_valid_dum)\n",
    "fig, ax = plt.subplots()\n",
    "plt.plot(fpr_rfb, tpr_rfb)\n",
    "plt.plot(fpr_dum, tpr_dum)\n",
    "plt.xlim([0.0, 1.0])\n",
    "plt.ylim([0.0, 1.0])\n",
    "plt.xlabel('False Positive Rate')\n",
    "plt.ylabel('True Positive Rate')\n",
    "plt.title('ROC-кривая')\n",
    "ax.grid()\n",
    "plt.show()"
   ]
  },
  {
   "cell_type": "code",
   "execution_count": 30,
   "metadata": {
    "scrolled": true
   },
   "outputs": [
    {
     "data": {
      "text/plain": [
       "0.8650644071616987"
      ]
     },
     "execution_count": 30,
     "metadata": {},
     "output_type": "execute_result"
    }
   ],
   "source": [
    "# Вычислим AUC-ROC для лучшей модели\n",
    "roc_auc_score(target_test, probabilities_one_valid_rfb)"
   ]
  },
  {
   "cell_type": "code",
   "execution_count": 31,
   "metadata": {},
   "outputs": [
    {
     "name": "stdout",
     "output_type": "stream",
     "text": [
      "0.6273830155979203\n"
     ]
    }
   ],
   "source": [
    "# И значение F1\n",
    "print(f1_score(target_test, rfb_grid_search.best_estimator_.predict(features_test)))"
   ]
  },
  {
   "cell_type": "markdown",
   "metadata": {},
   "source": [
    "### Вывод ###\n",
    "Полученная лучшая модель случайного леса, на которой было получено значение F1-меры равной 0.59, была сравнена с моделью, возвращающей случайные значения, и моделью, возвращающей наиболее часто встречающейся класс. F1-мера для дамми модели, всегда возвращающей 0 равна 0, так как точность в этом случае тоже будет равна 0.\n",
    "Сравнивая значения площади под ROC-кривой для лучшей и дамми моделей также видно, что лучшая модель превосходит дамми модель."
   ]
  },
  {
   "cell_type": "markdown",
   "metadata": {},
   "source": [
    "## Общий вывод ##\n",
    "В данном проекте была проведена предобработка данных с таким учетом, чтобы их можно было использовать в моделях классификации. Были обработаны пропуски в данных, удалены незначимыепризнаки.\n",
    "Были подобраны лучшие гиперпараметры для моделей логистической регрессии, дерева классификации и случайного леса. Эти модели были обучены на данных с дисбалансов классов. Лучшие результаты, равные для F1-меры 0.57 были получены для модели дерева решений.\n",
    "После устранения дисбаланса классов тремя разными методами была вновь обучена модель случайного леса с новыми гиперпараметрами и получено значения для F1-меры равное 0.62\n",
    "Лучшая модель была протестирована и сравнена со случайной и дамми моделями. Модель случайного леса показала значительно лучший результат. Помимо этого был построен график для ROC-кривой для лучшей и дамми моделей, измерена площадь под ROC-кривой для лучшей модели."
   ]
  },
  {
   "cell_type": "markdown",
   "metadata": {},
   "source": [
    "## Чек-лист готовности проекта"
   ]
  },
  {
   "cell_type": "markdown",
   "metadata": {},
   "source": [
    "Поставьте 'x' в выполненных пунктах. Далее нажмите Shift+Enter."
   ]
  },
  {
   "cell_type": "markdown",
   "metadata": {},
   "source": [
    "- [x]  Jupyter Notebook открыт\n",
    "- [x]  Весь код выполняется без ошибок\n",
    "- [x]  Ячейки с кодом расположены в порядке исполнения\n",
    "- [x]  Выполнен шаг 1: данные подготовлены\n",
    "- [x]  Выполнен шаг 2: задача исследована\n",
    "    - [x]  Исследован баланс классов\n",
    "    - [x]  Изучены модели без учёта дисбаланса\n",
    "    - [x]  Написаны выводы по результатам исследования\n",
    "- [x]  Выполнен шаг 3: учтён дисбаланс\n",
    "    - [x]  Применено несколько способов борьбы с дисбалансом\n",
    "    - [x]  Написаны выводы по результатам исследования\n",
    "- [x]  Выполнен шаг 4: проведено тестирование\n",
    "- [x]  Удалось достичь *F1*-меры не менее 0.59\n",
    "- [x]  Исследована метрика *AUC-ROC*"
   ]
  }
 ],
 "metadata": {
  "ExecuteTimeLog": [
   {
    "duration": 786,
    "start_time": "2022-10-12T06:13:13.471Z"
   },
   {
    "duration": 85,
    "start_time": "2022-10-12T06:13:34.740Z"
   },
   {
    "duration": 51,
    "start_time": "2022-10-12T06:13:40.189Z"
   },
   {
    "duration": 48,
    "start_time": "2022-10-12T06:14:16.631Z"
   },
   {
    "duration": 6,
    "start_time": "2022-10-12T06:15:05.279Z"
   },
   {
    "duration": 4,
    "start_time": "2022-10-12T06:15:38.049Z"
   },
   {
    "duration": 4,
    "start_time": "2022-10-12T06:16:18.339Z"
   },
   {
    "duration": 4,
    "start_time": "2022-10-12T06:18:09.640Z"
   },
   {
    "duration": 78,
    "start_time": "2022-10-12T06:19:21.449Z"
   },
   {
    "duration": 19,
    "start_time": "2022-10-12T06:19:33.203Z"
   },
   {
    "duration": 16,
    "start_time": "2022-10-12T06:21:52.723Z"
   },
   {
    "duration": 7,
    "start_time": "2022-10-12T06:30:22.208Z"
   },
   {
    "duration": 11,
    "start_time": "2022-10-12T06:30:35.197Z"
   },
   {
    "duration": 4,
    "start_time": "2022-10-12T06:30:51.375Z"
   },
   {
    "duration": 11,
    "start_time": "2022-10-12T06:30:53.640Z"
   },
   {
    "duration": 15,
    "start_time": "2022-10-12T06:33:31.109Z"
   },
   {
    "duration": 4,
    "start_time": "2022-10-12T06:33:39.228Z"
   },
   {
    "duration": 11,
    "start_time": "2022-10-12T06:33:46.429Z"
   },
   {
    "duration": 718,
    "start_time": "2022-10-12T06:36:21.809Z"
   },
   {
    "duration": 873,
    "start_time": "2022-10-12T07:09:20.352Z"
   },
   {
    "duration": 1282,
    "start_time": "2022-10-12T07:09:59.492Z"
   },
   {
    "duration": 15,
    "start_time": "2022-10-12T07:10:31.842Z"
   },
   {
    "duration": 11,
    "start_time": "2022-10-12T07:10:41.184Z"
   },
   {
    "duration": 14,
    "start_time": "2022-10-12T07:11:03.449Z"
   },
   {
    "duration": 9,
    "start_time": "2022-10-12T07:11:06.405Z"
   },
   {
    "duration": 8,
    "start_time": "2022-10-12T07:11:12.046Z"
   },
   {
    "duration": 10,
    "start_time": "2022-10-12T07:11:14.549Z"
   },
   {
    "duration": 1236,
    "start_time": "2022-10-12T07:11:44.649Z"
   },
   {
    "duration": 51,
    "start_time": "2022-10-12T07:11:45.887Z"
   },
   {
    "duration": 4,
    "start_time": "2022-10-12T07:11:45.940Z"
   },
   {
    "duration": 21,
    "start_time": "2022-10-12T07:11:45.945Z"
   },
   {
    "duration": 4,
    "start_time": "2022-10-12T07:11:45.968Z"
   },
   {
    "duration": 6,
    "start_time": "2022-10-12T07:11:45.973Z"
   },
   {
    "duration": 132,
    "start_time": "2022-10-12T07:11:45.980Z"
   },
   {
    "duration": 0,
    "start_time": "2022-10-12T07:11:46.113Z"
   },
   {
    "duration": 10,
    "start_time": "2022-10-12T07:12:15.425Z"
   },
   {
    "duration": 11,
    "start_time": "2022-10-12T07:12:17.674Z"
   },
   {
    "duration": 7,
    "start_time": "2022-10-12T07:12:21.588Z"
   },
   {
    "duration": 11,
    "start_time": "2022-10-12T07:12:23.701Z"
   },
   {
    "duration": 1281,
    "start_time": "2022-10-12T08:10:00.322Z"
   },
   {
    "duration": 49,
    "start_time": "2022-10-12T08:10:01.605Z"
   },
   {
    "duration": 4,
    "start_time": "2022-10-12T08:10:01.656Z"
   },
   {
    "duration": 30,
    "start_time": "2022-10-12T08:10:01.662Z"
   },
   {
    "duration": 4,
    "start_time": "2022-10-12T08:10:01.694Z"
   },
   {
    "duration": 8,
    "start_time": "2022-10-12T08:10:01.699Z"
   },
   {
    "duration": 30,
    "start_time": "2022-10-12T08:10:01.708Z"
   },
   {
    "duration": 28,
    "start_time": "2022-10-12T08:10:01.740Z"
   },
   {
    "duration": 5,
    "start_time": "2022-10-12T08:17:49.181Z"
   },
   {
    "duration": 5,
    "start_time": "2022-10-12T08:18:05.060Z"
   },
   {
    "duration": 7,
    "start_time": "2022-10-12T08:20:33.749Z"
   },
   {
    "duration": 7,
    "start_time": "2022-10-12T08:20:46.344Z"
   },
   {
    "duration": 9,
    "start_time": "2022-10-12T08:22:55.423Z"
   },
   {
    "duration": 10,
    "start_time": "2022-10-12T08:23:31.849Z"
   },
   {
    "duration": 119,
    "start_time": "2022-10-12T08:52:23.833Z"
   },
   {
    "duration": 6,
    "start_time": "2022-10-12T08:53:03.584Z"
   },
   {
    "duration": 6,
    "start_time": "2022-10-12T08:54:09.973Z"
   },
   {
    "duration": 5,
    "start_time": "2022-10-12T08:54:25.564Z"
   },
   {
    "duration": 10,
    "start_time": "2022-10-12T08:56:09.494Z"
   },
   {
    "duration": 8,
    "start_time": "2022-10-12T08:56:31.189Z"
   },
   {
    "duration": 7,
    "start_time": "2022-10-12T08:56:39.154Z"
   },
   {
    "duration": 7,
    "start_time": "2022-10-12T08:56:52.503Z"
   },
   {
    "duration": 9,
    "start_time": "2022-10-12T08:58:55.953Z"
   },
   {
    "duration": 10,
    "start_time": "2022-10-12T08:59:54.853Z"
   },
   {
    "duration": 10,
    "start_time": "2022-10-12T09:00:01.524Z"
   },
   {
    "duration": 12,
    "start_time": "2022-10-12T09:01:16.852Z"
   },
   {
    "duration": 9,
    "start_time": "2022-10-12T09:01:37.973Z"
   },
   {
    "duration": 9,
    "start_time": "2022-10-12T09:01:50.243Z"
   },
   {
    "duration": 11,
    "start_time": "2022-10-12T09:02:57.965Z"
   },
   {
    "duration": 44,
    "start_time": "2022-10-12T09:09:05.457Z"
   },
   {
    "duration": 51,
    "start_time": "2022-10-12T11:54:35.327Z"
   },
   {
    "duration": 1532,
    "start_time": "2022-10-12T11:54:45.231Z"
   },
   {
    "duration": 1377,
    "start_time": "2022-10-12T11:54:59.428Z"
   },
   {
    "duration": 91,
    "start_time": "2022-10-12T11:55:00.807Z"
   },
   {
    "duration": 4,
    "start_time": "2022-10-12T11:55:00.900Z"
   },
   {
    "duration": 26,
    "start_time": "2022-10-12T11:55:00.905Z"
   },
   {
    "duration": 4,
    "start_time": "2022-10-12T11:55:00.933Z"
   },
   {
    "duration": 11,
    "start_time": "2022-10-12T11:55:00.939Z"
   },
   {
    "duration": 16,
    "start_time": "2022-10-12T11:55:00.952Z"
   },
   {
    "duration": 28,
    "start_time": "2022-10-12T11:55:00.970Z"
   },
   {
    "duration": 22,
    "start_time": "2022-10-12T11:55:00.999Z"
   },
   {
    "duration": 23,
    "start_time": "2022-10-12T11:55:01.023Z"
   },
   {
    "duration": 5738,
    "start_time": "2022-10-12T11:56:08.396Z"
   },
   {
    "duration": 4,
    "start_time": "2022-10-12T11:57:14.707Z"
   },
   {
    "duration": 13647,
    "start_time": "2022-10-12T11:57:17.386Z"
   },
   {
    "duration": 4,
    "start_time": "2022-10-12T11:58:01.347Z"
   },
   {
    "duration": 4,
    "start_time": "2022-10-12T12:00:07.971Z"
   },
   {
    "duration": 197684,
    "start_time": "2022-10-12T12:00:26.077Z"
   },
   {
    "duration": 4,
    "start_time": "2022-10-12T12:03:43.763Z"
   },
   {
    "duration": 3,
    "start_time": "2022-10-12T12:03:50.744Z"
   },
   {
    "duration": 10,
    "start_time": "2022-10-12T12:04:06.367Z"
   },
   {
    "duration": 13,
    "start_time": "2022-10-12T12:04:39.753Z"
   },
   {
    "duration": 15,
    "start_time": "2022-10-12T12:05:01.879Z"
   },
   {
    "duration": 11,
    "start_time": "2022-10-12T12:06:30.976Z"
   },
   {
    "duration": 4,
    "start_time": "2022-10-12T12:11:21.448Z"
   },
   {
    "duration": 3,
    "start_time": "2022-10-12T12:11:32.051Z"
   },
   {
    "duration": 3110,
    "start_time": "2022-10-12T12:12:04.107Z"
   },
   {
    "duration": 9,
    "start_time": "2022-10-12T12:12:26.393Z"
   },
   {
    "duration": 14,
    "start_time": "2022-10-12T12:13:39.127Z"
   },
   {
    "duration": 8,
    "start_time": "2022-10-12T12:13:51.067Z"
   },
   {
    "duration": 3,
    "start_time": "2022-10-12T12:15:13.176Z"
   },
   {
    "duration": 3,
    "start_time": "2022-10-12T12:17:00.658Z"
   },
   {
    "duration": 3,
    "start_time": "2022-10-12T12:17:25.948Z"
   },
   {
    "duration": 0,
    "start_time": "2022-10-12T12:44:37.045Z"
   },
   {
    "duration": 0,
    "start_time": "2022-10-12T12:44:37.046Z"
   },
   {
    "duration": 4,
    "start_time": "2022-10-12T12:45:07.642Z"
   },
   {
    "duration": 42985,
    "start_time": "2022-10-12T12:45:09.385Z"
   },
   {
    "duration": 38,
    "start_time": "2022-10-12T12:45:55.269Z"
   },
   {
    "duration": 6,
    "start_time": "2022-10-12T12:55:34.653Z"
   },
   {
    "duration": 19,
    "start_time": "2022-10-12T12:58:29.304Z"
   },
   {
    "duration": 3,
    "start_time": "2022-10-12T12:58:59.529Z"
   },
   {
    "duration": 6,
    "start_time": "2022-10-12T12:59:03.800Z"
   },
   {
    "duration": 20,
    "start_time": "2022-10-12T12:59:05.700Z"
   },
   {
    "duration": 18,
    "start_time": "2022-10-12T12:59:18.432Z"
   },
   {
    "duration": 10,
    "start_time": "2022-10-12T13:00:53.931Z"
   },
   {
    "duration": 3,
    "start_time": "2022-10-12T13:00:59.710Z"
   },
   {
    "duration": 440,
    "start_time": "2022-10-12T13:01:45.953Z"
   },
   {
    "duration": 579,
    "start_time": "2022-10-12T13:03:43.552Z"
   },
   {
    "duration": 255,
    "start_time": "2022-10-12T13:04:32.451Z"
   },
   {
    "duration": 14,
    "start_time": "2022-10-12T13:18:52.852Z"
   },
   {
    "duration": 4,
    "start_time": "2022-10-12T13:18:59.699Z"
   },
   {
    "duration": 14,
    "start_time": "2022-10-12T13:19:03.731Z"
   },
   {
    "duration": 10,
    "start_time": "2022-10-12T13:19:51.572Z"
   },
   {
    "duration": 9,
    "start_time": "2022-10-12T13:20:27.393Z"
   },
   {
    "duration": 1429,
    "start_time": "2022-10-13T06:24:37.994Z"
   },
   {
    "duration": 1303,
    "start_time": "2022-10-13T06:24:49.418Z"
   },
   {
    "duration": 170,
    "start_time": "2022-10-13T06:24:50.723Z"
   },
   {
    "duration": 5,
    "start_time": "2022-10-13T06:24:50.894Z"
   },
   {
    "duration": 32,
    "start_time": "2022-10-13T06:24:50.900Z"
   },
   {
    "duration": 18,
    "start_time": "2022-10-13T06:24:50.934Z"
   },
   {
    "duration": 11,
    "start_time": "2022-10-13T06:24:50.953Z"
   },
   {
    "duration": 25,
    "start_time": "2022-10-13T06:24:50.966Z"
   },
   {
    "duration": 31,
    "start_time": "2022-10-13T06:24:50.993Z"
   },
   {
    "duration": 36,
    "start_time": "2022-10-13T06:24:51.026Z"
   },
   {
    "duration": 21,
    "start_time": "2022-10-13T06:24:51.063Z"
   },
   {
    "duration": 185959,
    "start_time": "2022-10-13T06:24:51.085Z"
   },
   {
    "duration": 9,
    "start_time": "2022-10-13T06:27:57.045Z"
   },
   {
    "duration": 6,
    "start_time": "2022-10-13T06:27:57.106Z"
   },
   {
    "duration": 2806,
    "start_time": "2022-10-13T06:27:57.115Z"
   },
   {
    "duration": 6,
    "start_time": "2022-10-13T06:27:59.923Z"
   },
   {
    "duration": 8,
    "start_time": "2022-10-13T06:27:59.930Z"
   },
   {
    "duration": 35947,
    "start_time": "2022-10-13T06:27:59.939Z"
   },
   {
    "duration": 40,
    "start_time": "2022-10-13T06:28:35.887Z"
   },
   {
    "duration": 6,
    "start_time": "2022-10-13T06:28:35.928Z"
   },
   {
    "duration": 36,
    "start_time": "2022-10-13T06:28:35.936Z"
   },
   {
    "duration": 435,
    "start_time": "2022-10-13T06:28:35.974Z"
   },
   {
    "duration": 513,
    "start_time": "2022-10-13T06:28:36.411Z"
   },
   {
    "duration": 241,
    "start_time": "2022-10-13T06:28:36.925Z"
   },
   {
    "duration": 8,
    "start_time": "2022-10-13T06:28:37.168Z"
   },
   {
    "duration": 3,
    "start_time": "2022-10-13T06:28:37.177Z"
   },
   {
    "duration": 298,
    "start_time": "2022-10-13T06:28:37.182Z"
   },
   {
    "duration": 487,
    "start_time": "2022-10-13T06:28:44.025Z"
   },
   {
    "duration": 386,
    "start_time": "2022-10-13T06:30:55.945Z"
   },
   {
    "duration": 218,
    "start_time": "2022-10-13T06:30:58.013Z"
   },
   {
    "duration": 487,
    "start_time": "2022-10-13T06:31:00.410Z"
   },
   {
    "duration": 369,
    "start_time": "2022-10-13T06:31:39.409Z"
   },
   {
    "duration": 210,
    "start_time": "2022-10-13T06:31:40.513Z"
   },
   {
    "duration": 476,
    "start_time": "2022-10-13T06:31:41.671Z"
   },
   {
    "duration": 8,
    "start_time": "2022-10-13T06:32:16.711Z"
   },
   {
    "duration": 8,
    "start_time": "2022-10-13T06:32:27.630Z"
   },
   {
    "duration": 197,
    "start_time": "2022-10-13T06:36:29.458Z"
   },
   {
    "duration": 134,
    "start_time": "2022-10-13T06:36:50.630Z"
   },
   {
    "duration": 193,
    "start_time": "2022-10-13T06:37:03.450Z"
   },
   {
    "duration": 133,
    "start_time": "2022-10-13T06:37:22.270Z"
   },
   {
    "duration": 139,
    "start_time": "2022-10-13T06:38:25.991Z"
   },
   {
    "duration": 181,
    "start_time": "2022-10-13T06:38:41.504Z"
   },
   {
    "duration": 5,
    "start_time": "2022-10-13T06:39:40.978Z"
   },
   {
    "duration": 7,
    "start_time": "2022-10-13T06:39:47.921Z"
   },
   {
    "duration": 1283,
    "start_time": "2022-10-13T06:53:03.826Z"
   },
   {
    "duration": 49,
    "start_time": "2022-10-13T06:53:05.118Z"
   },
   {
    "duration": 4,
    "start_time": "2022-10-13T06:53:05.169Z"
   },
   {
    "duration": 21,
    "start_time": "2022-10-13T06:53:05.175Z"
   },
   {
    "duration": 4,
    "start_time": "2022-10-13T06:53:05.198Z"
   },
   {
    "duration": 22,
    "start_time": "2022-10-13T06:53:05.203Z"
   },
   {
    "duration": 12,
    "start_time": "2022-10-13T06:53:05.226Z"
   },
   {
    "duration": 13,
    "start_time": "2022-10-13T06:53:05.239Z"
   },
   {
    "duration": 11,
    "start_time": "2022-10-13T06:53:05.254Z"
   },
   {
    "duration": 3,
    "start_time": "2022-10-13T06:53:05.267Z"
   },
   {
    "duration": 181367,
    "start_time": "2022-10-13T06:53:05.271Z"
   },
   {
    "duration": 8,
    "start_time": "2022-10-13T06:56:06.640Z"
   },
   {
    "duration": 156,
    "start_time": "2022-10-13T06:56:06.650Z"
   },
   {
    "duration": 2714,
    "start_time": "2022-10-13T06:56:06.808Z"
   },
   {
    "duration": 6,
    "start_time": "2022-10-13T06:56:09.523Z"
   },
   {
    "duration": 6,
    "start_time": "2022-10-13T06:56:09.531Z"
   },
   {
    "duration": 36026,
    "start_time": "2022-10-13T06:56:09.538Z"
   },
   {
    "duration": 39,
    "start_time": "2022-10-13T06:56:45.566Z"
   },
   {
    "duration": 5,
    "start_time": "2022-10-13T06:56:45.607Z"
   },
   {
    "duration": 27,
    "start_time": "2022-10-13T06:56:45.613Z"
   },
   {
    "duration": 373,
    "start_time": "2022-10-13T06:56:45.642Z"
   },
   {
    "duration": 221,
    "start_time": "2022-10-13T06:56:46.017Z"
   },
   {
    "duration": 502,
    "start_time": "2022-10-13T06:56:46.240Z"
   },
   {
    "duration": 9,
    "start_time": "2022-10-13T06:56:46.744Z"
   },
   {
    "duration": 183,
    "start_time": "2022-10-13T06:56:46.754Z"
   },
   {
    "duration": 6,
    "start_time": "2022-10-13T06:56:46.939Z"
   },
   {
    "duration": 1747,
    "start_time": "2022-10-14T01:13:42.033Z"
   },
   {
    "duration": 36,
    "start_time": "2022-10-14T01:13:43.782Z"
   },
   {
    "duration": 4,
    "start_time": "2022-10-14T01:13:43.820Z"
   },
   {
    "duration": 18,
    "start_time": "2022-10-14T01:13:43.827Z"
   },
   {
    "duration": 5,
    "start_time": "2022-10-14T01:13:43.847Z"
   },
   {
    "duration": 5,
    "start_time": "2022-10-14T01:13:43.853Z"
   },
   {
    "duration": 13,
    "start_time": "2022-10-14T01:13:43.859Z"
   },
   {
    "duration": 10,
    "start_time": "2022-10-14T01:13:43.874Z"
   },
   {
    "duration": 41,
    "start_time": "2022-10-14T01:13:43.886Z"
   },
   {
    "duration": 3,
    "start_time": "2022-10-14T01:13:43.930Z"
   },
   {
    "duration": 197737,
    "start_time": "2022-10-14T01:13:43.935Z"
   },
   {
    "duration": 50,
    "start_time": "2022-10-14T01:17:01.673Z"
   },
   {
    "duration": 5,
    "start_time": "2022-10-14T01:17:01.725Z"
   },
   {
    "duration": 2973,
    "start_time": "2022-10-14T01:17:01.733Z"
   },
   {
    "duration": 14,
    "start_time": "2022-10-14T01:17:04.708Z"
   },
   {
    "duration": 9,
    "start_time": "2022-10-14T01:17:04.724Z"
   },
   {
    "duration": 37369,
    "start_time": "2022-10-14T01:17:04.735Z"
   },
   {
    "duration": 38,
    "start_time": "2022-10-14T01:17:42.106Z"
   },
   {
    "duration": 6,
    "start_time": "2022-10-14T01:17:42.145Z"
   },
   {
    "duration": 23,
    "start_time": "2022-10-14T01:17:42.152Z"
   },
   {
    "duration": 387,
    "start_time": "2022-10-14T01:17:42.176Z"
   },
   {
    "duration": 247,
    "start_time": "2022-10-14T01:17:42.564Z"
   },
   {
    "duration": 522,
    "start_time": "2022-10-14T01:17:42.813Z"
   },
   {
    "duration": 8,
    "start_time": "2022-10-14T01:17:43.337Z"
   },
   {
    "duration": 183,
    "start_time": "2022-10-14T01:17:43.346Z"
   },
   {
    "duration": 5,
    "start_time": "2022-10-14T01:17:43.531Z"
   },
   {
    "duration": 1765,
    "start_time": "2022-10-15T12:08:15.145Z"
   },
   {
    "duration": 186,
    "start_time": "2022-10-15T12:08:22.120Z"
   },
   {
    "duration": 12,
    "start_time": "2022-10-15T12:08:25.101Z"
   },
   {
    "duration": 18,
    "start_time": "2022-10-15T12:08:25.926Z"
   },
   {
    "duration": 14,
    "start_time": "2022-10-15T12:08:48.662Z"
   },
   {
    "duration": 4,
    "start_time": "2022-10-15T12:08:50.582Z"
   },
   {
    "duration": 4,
    "start_time": "2022-10-15T12:23:30.126Z"
   },
   {
    "duration": 12,
    "start_time": "2022-10-15T12:23:39.937Z"
   },
   {
    "duration": 6,
    "start_time": "2022-10-15T12:23:52.178Z"
   },
   {
    "duration": 13,
    "start_time": "2022-10-15T12:24:10.760Z"
   },
   {
    "duration": 12,
    "start_time": "2022-10-15T12:24:23.876Z"
   },
   {
    "duration": 9,
    "start_time": "2022-10-15T12:25:35.668Z"
   },
   {
    "duration": 67,
    "start_time": "2022-10-15T12:26:28.293Z"
   },
   {
    "duration": 8,
    "start_time": "2022-10-15T12:30:13.118Z"
   },
   {
    "duration": 8,
    "start_time": "2022-10-15T12:30:27.689Z"
   },
   {
    "duration": 13,
    "start_time": "2022-10-15T12:33:28.956Z"
   },
   {
    "duration": 9,
    "start_time": "2022-10-15T12:33:38.476Z"
   },
   {
    "duration": 1352,
    "start_time": "2022-10-15T12:33:54.590Z"
   },
   {
    "duration": 48,
    "start_time": "2022-10-15T12:33:55.944Z"
   },
   {
    "duration": 6,
    "start_time": "2022-10-15T12:33:57.130Z"
   },
   {
    "duration": 16,
    "start_time": "2022-10-15T12:33:58.309Z"
   },
   {
    "duration": 4,
    "start_time": "2022-10-15T12:33:59.947Z"
   },
   {
    "duration": 5,
    "start_time": "2022-10-15T12:34:03.593Z"
   },
   {
    "duration": 12,
    "start_time": "2022-10-15T12:34:04.659Z"
   },
   {
    "duration": 7,
    "start_time": "2022-10-15T12:34:08.483Z"
   },
   {
    "duration": 10,
    "start_time": "2022-10-15T12:34:12.164Z"
   },
   {
    "duration": 9,
    "start_time": "2022-10-15T12:34:18.894Z"
   },
   {
    "duration": 173441,
    "start_time": "2022-10-15T12:34:27.079Z"
   },
   {
    "duration": 67,
    "start_time": "2022-10-15T12:37:20.522Z"
   },
   {
    "duration": 10,
    "start_time": "2022-10-15T12:37:27.111Z"
   },
   {
    "duration": 72,
    "start_time": "2022-10-15T12:37:38.709Z"
   },
   {
    "duration": 4,
    "start_time": "2022-10-15T12:37:53.912Z"
   },
   {
    "duration": 3151,
    "start_time": "2022-10-15T12:37:55.309Z"
   },
   {
    "duration": 12,
    "start_time": "2022-10-15T12:38:10.789Z"
   },
   {
    "duration": 3,
    "start_time": "2022-10-15T12:40:17.571Z"
   },
   {
    "duration": 157184,
    "start_time": "2022-10-15T12:40:21.705Z"
   },
   {
    "duration": 111,
    "start_time": "2022-10-15T12:42:58.898Z"
   },
   {
    "duration": 0,
    "start_time": "2022-10-15T12:42:59.010Z"
   },
   {
    "duration": 57,
    "start_time": "2022-10-15T12:43:36.371Z"
   },
   {
    "duration": 4,
    "start_time": "2022-10-15T12:44:48.534Z"
   },
   {
    "duration": 4,
    "start_time": "2022-10-15T12:45:30.246Z"
   },
   {
    "duration": 7,
    "start_time": "2022-10-15T12:45:36.196Z"
   },
   {
    "duration": 4,
    "start_time": "2022-10-15T12:45:44.045Z"
   },
   {
    "duration": 777454,
    "start_time": "2022-10-15T12:46:31.517Z"
   },
   {
    "duration": 4,
    "start_time": "2022-10-15T13:00:14.767Z"
   },
   {
    "duration": 4,
    "start_time": "2022-10-15T13:00:20.330Z"
   },
   {
    "duration": 11362,
    "start_time": "2022-10-15T13:00:27.521Z"
   },
   {
    "duration": 4,
    "start_time": "2022-10-15T13:00:43.748Z"
   },
   {
    "duration": 31246,
    "start_time": "2022-10-15T13:00:46.204Z"
   },
   {
    "duration": 128,
    "start_time": "2022-10-15T13:03:43.386Z"
   },
   {
    "duration": 4,
    "start_time": "2022-10-15T13:05:01.986Z"
   },
   {
    "duration": 202705,
    "start_time": "2022-10-15T13:05:08.147Z"
   },
   {
    "duration": 779,
    "start_time": "2022-10-15T13:08:36.745Z"
   },
   {
    "duration": 6,
    "start_time": "2022-10-15T13:09:03.398Z"
   },
   {
    "duration": 5,
    "start_time": "2022-10-15T13:09:34.675Z"
   },
   {
    "duration": 17,
    "start_time": "2022-10-15T13:09:36.957Z"
   },
   {
    "duration": 8,
    "start_time": "2022-10-15T13:09:43.616Z"
   },
   {
    "duration": 40956,
    "start_time": "2022-10-15T13:12:39.709Z"
   },
   {
    "duration": 4,
    "start_time": "2022-10-15T13:14:18.185Z"
   },
   {
    "duration": 25840,
    "start_time": "2022-10-15T13:17:25.349Z"
   },
   {
    "duration": 51158,
    "start_time": "2022-10-15T13:17:51.190Z"
   },
   {
    "duration": 3,
    "start_time": "2022-10-15T13:18:42.350Z"
   },
   {
    "duration": 6,
    "start_time": "2022-10-15T13:18:42.355Z"
   },
   {
    "duration": 11,
    "start_time": "2022-10-15T13:20:03.448Z"
   },
   {
    "duration": 12,
    "start_time": "2022-10-15T13:20:06.074Z"
   },
   {
    "duration": 14,
    "start_time": "2022-10-15T13:20:57.959Z"
   },
   {
    "duration": 329,
    "start_time": "2022-10-15T13:21:06.589Z"
   },
   {
    "duration": 273,
    "start_time": "2022-10-15T13:21:42.255Z"
   },
   {
    "duration": 11,
    "start_time": "2022-10-15T13:21:54.256Z"
   },
   {
    "duration": 9,
    "start_time": "2022-10-15T13:22:02.603Z"
   },
   {
    "duration": 250,
    "start_time": "2022-10-15T13:23:54.492Z"
   },
   {
    "duration": 263,
    "start_time": "2022-10-15T13:24:00.759Z"
   },
   {
    "duration": 257,
    "start_time": "2022-10-15T13:24:08.332Z"
   },
   {
    "duration": 246,
    "start_time": "2022-10-15T13:24:19.080Z"
   },
   {
    "duration": 328,
    "start_time": "2022-10-15T13:25:13.240Z"
   },
   {
    "duration": 225,
    "start_time": "2022-10-15T13:25:24.006Z"
   },
   {
    "duration": 369,
    "start_time": "2022-10-15T13:25:42.345Z"
   },
   {
    "duration": 235,
    "start_time": "2022-10-15T13:25:49.213Z"
   },
   {
    "duration": 226,
    "start_time": "2022-10-15T13:26:27.608Z"
   },
   {
    "duration": 238,
    "start_time": "2022-10-15T13:27:28.220Z"
   },
   {
    "duration": 1537,
    "start_time": "2022-10-15T13:29:57.964Z"
   },
   {
    "duration": 50,
    "start_time": "2022-10-15T13:29:59.502Z"
   },
   {
    "duration": 5,
    "start_time": "2022-10-15T13:29:59.554Z"
   },
   {
    "duration": 30,
    "start_time": "2022-10-15T13:29:59.561Z"
   },
   {
    "duration": 5,
    "start_time": "2022-10-15T13:29:59.592Z"
   },
   {
    "duration": 8,
    "start_time": "2022-10-15T13:29:59.599Z"
   },
   {
    "duration": 12,
    "start_time": "2022-10-15T13:29:59.608Z"
   },
   {
    "duration": 9,
    "start_time": "2022-10-15T13:29:59.622Z"
   },
   {
    "duration": 12,
    "start_time": "2022-10-15T13:29:59.634Z"
   },
   {
    "duration": 4,
    "start_time": "2022-10-15T13:29:59.650Z"
   },
   {
    "duration": 188582,
    "start_time": "2022-10-15T13:29:59.656Z"
   },
   {
    "duration": 55,
    "start_time": "2022-10-15T13:33:08.240Z"
   },
   {
    "duration": 12,
    "start_time": "2022-10-15T13:33:08.298Z"
   },
   {
    "duration": 3036,
    "start_time": "2022-10-15T13:33:08.396Z"
   },
   {
    "duration": 7,
    "start_time": "2022-10-15T13:33:11.434Z"
   },
   {
    "duration": 5,
    "start_time": "2022-10-15T13:33:11.443Z"
   },
   {
    "duration": 38659,
    "start_time": "2022-10-15T13:33:11.449Z"
   },
   {
    "duration": 160,
    "start_time": "2022-10-15T13:33:50.110Z"
   },
   {
    "duration": 6,
    "start_time": "2022-10-15T13:33:50.272Z"
   },
   {
    "duration": 32,
    "start_time": "2022-10-15T13:33:50.280Z"
   },
   {
    "duration": 11,
    "start_time": "2022-10-15T13:33:50.314Z"
   },
   {
    "duration": 39316,
    "start_time": "2022-10-15T13:33:50.327Z"
   },
   {
    "duration": 4,
    "start_time": "2022-10-15T13:34:29.644Z"
   },
   {
    "duration": 24290,
    "start_time": "2022-10-15T13:34:29.649Z"
   },
   {
    "duration": 4,
    "start_time": "2022-10-15T13:34:53.941Z"
   },
   {
    "duration": 48565,
    "start_time": "2022-10-15T13:34:53.946Z"
   },
   {
    "duration": 3,
    "start_time": "2022-10-15T13:35:42.513Z"
   },
   {
    "duration": 12,
    "start_time": "2022-10-15T13:35:42.519Z"
   },
   {
    "duration": 251,
    "start_time": "2022-10-15T13:35:42.532Z"
   },
   {
    "duration": 12,
    "start_time": "2022-10-15T13:35:42.785Z"
   },
   {
    "duration": 138,
    "start_time": "2022-10-15T13:36:00.459Z"
   }
  ],
  "kernelspec": {
   "display_name": "Python 3 (ipykernel)",
   "language": "python",
   "name": "python3"
  },
  "language_info": {
   "codemirror_mode": {
    "name": "ipython",
    "version": 3
   },
   "file_extension": ".py",
   "mimetype": "text/x-python",
   "name": "python",
   "nbconvert_exporter": "python",
   "pygments_lexer": "ipython3",
   "version": "3.9.12"
  },
  "toc": {
   "base_numbering": 1,
   "nav_menu": {},
   "number_sections": true,
   "sideBar": true,
   "skip_h1_title": true,
   "title_cell": "Содержание",
   "title_sidebar": "Contents",
   "toc_cell": true,
   "toc_position": {},
   "toc_section_display": true,
   "toc_window_display": false
  }
 },
 "nbformat": 4,
 "nbformat_minor": 2
}
